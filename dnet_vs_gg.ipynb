{
 "cells": [
  {
   "cell_type": "markdown",
   "metadata": {},
   "source": [
    "# imports "
   ]
  },
  {
   "cell_type": "code",
   "execution_count": 6,
   "metadata": {},
   "outputs": [],
   "source": [
    "import os\n",
    "os.environ[\"CUDA_DEVICE_ORDER\"]=\"PCI_BUS_ID\"\n",
    "os.environ[\"CUDA_VISIBLE_DEVICES\"]=\"0\"\n",
    "\n",
    "%reload_ext autoreload\n",
    "%autoreload 2\n",
    "#%matplotlib notebook\n",
    "%matplotlib inline\n",
    "\n",
    "from typing import List, Callable, Dict\n",
    "\n",
    "import sys\n",
    "import os\n",
    "\n",
    "#https://github.com/FAU-DLM/wsi_processing_pipeline\n",
    "sys.path.append(\"../\")\n",
    "sys.path.append(\"../wsi_processing_pipeline/\")\n",
    "sys.path.append(\"../wsi_processing_pipeline/tile_extraction\")\n",
    "sys.path.append(\"../wsi_processing_pipeline/shared\")\n",
    "import wsi_processing_pipeline\n",
    "import tile_extraction\n",
    "import preprocessing\n",
    "import postprocessing\n",
    "import shared\n",
    "from wsi_processing_pipeline.shared import roi\n",
    "from wsi_processing_pipeline.tile_extraction import tiles, util, slide, filter\n",
    "from wsi_processing_pipeline import shared\n",
    "from wsi_processing_pipeline.preprocessing import *\n",
    "import wsi_processing_pipeline.preprocessing.files_getter\n",
    "from wsi_processing_pipeline.preprocessing.tile_image_block import TileImage, label_tl_image, tile_image, TileTransform\n",
    "from wsi_processing_pipeline.preprocessing.tile_image_block import show_batch, TileImageBlock\n",
    "from shared.patient_manager import PatientManager\n",
    "\n",
    "sys.path.append('../models-pytorch/pretrained-models.pytorch')\n",
    "import pretrainedmodels\n",
    "from pretrainedmodels import *\n",
    "\n",
    "\n",
    "import fastai\n",
    "from fastai.vision.all import *\n",
    "from typing import Dict\n",
    "import pandas\n",
    "import pandas as pd\n",
    "import numpy as np\n",
    "import os\n",
    "import torch\n",
    "torch.backends.cudnn.benchmark=True\n",
    "import torchvision\n",
    "from torchvision.models import *\n",
    "from torchsummary import summary\n",
    "from functools import partial, update_wrapper\n",
    "from tqdm import tqdm_notebook as tqdm\n",
    "import matplotlib.image as mpimg\n",
    "import shutil\n",
    "\n",
    "# to fix python OSError: broken data stream when reading image file\n",
    "# https://stackoverflow.com/questions/42462431/oserror-broken-data-stream-when-reading-image-file\n",
    "from PIL import Image, ImageFile\n",
    "ImageFile.LOAD_TRUNCATED_IMAGES = True\n",
    "\n",
    "import sklearn\n",
    "from sklearn.metrics import roc_curve, auc, roc_auc_score\n",
    "from sklearn.model_selection import train_test_split\n",
    "from sklearn.model_selection import StratifiedKFold, KFold\n",
    "from tqdm.notebook import tqdm\n",
    "\n",
    "import pathlib\n",
    "from pathlib import Path\n",
    "Path.ls = lambda x: [p for p in list(x.iterdir()) if '.ipynb_checkpoints' not in p.name]\n",
    "\n",
    "\n",
    "from concurrent.futures import as_completed, ProcessPoolExecutor\n",
    "from tqdm import tqdm\n",
    "\n",
    "#against DecompressionBombWarning\n",
    "Image.MAX_IMAGE_PIXELS = 10000000000   \n",
    "\n",
    "PATH_DNET = Path('/home/Deep_Learner/private/datasets/DNETs/')\n",
    "PATH_GANGLIOGLIOMA = Path('/home/Deep_Learner/private/datasets/Ganglioglioma/')\n",
    "PATH_ID_TABLE_DNET = PATH_DNET/'#TODO'\n",
    "PATH_ID_TABLE_GANGLIOGLIOMA = PATH_GANGLIOGLIOMA/'#TODO'\n",
    "\n",
    "seed = 42\n",
    "np.random.seed(seed)"
   ]
  },
  {
   "cell_type": "markdown",
   "metadata": {},
   "source": [
    "# data"
   ]
  },
  {
   "cell_type": "markdown",
   "metadata": {},
   "source": [
    "## wsi and json paths"
   ]
  },
  {
   "cell_type": "code",
   "execution_count": 8,
   "metadata": {},
   "outputs": [],
   "source": [
    "wsi_paths_dnets = fastai.data.transforms.get_files(path=PATH_DNET, extensions=['.ndpi'])\n",
    "wsi_paths_ganglioglioma = fastai.data.transforms.get_files(path=PATH_GANGLIOGLIOMA, extensions=['.ndpi'])\n",
    "\n",
    "json_paths_dnets = fastai.data.transforms.get_files(path=PATH_DNET, extensions=['.json'])\n",
    "json_paths_ganglioglioma = fastai.data.transforms.get_files(path=PATH_GANGLIOGLIOMA, extensions=['.json'])"
   ]
  },
  {
   "cell_type": "code",
   "execution_count": 11,
   "metadata": {},
   "outputs": [
    {
     "name": "stdout",
     "output_type": "stream",
     "text": [
      "55\n",
      "49\n",
      "0\n",
      "167\n"
     ]
    }
   ],
   "source": [
    "print(len(wsi_paths_dnets))\n",
    "print(len(json_paths_dnets))\n",
    "print(len(wsi_paths_ganglioglioma))\n",
    "print(len(json_paths_ganglioglioma))"
   ]
  },
  {
   "cell_type": "markdown",
   "metadata": {},
   "source": [
    "## id, label and roi funcs"
   ]
  },
  {
   "cell_type": "code",
   "execution_count": null,
   "metadata": {},
   "outputs": [],
   "source": [
    "df_dnet = pd.read(PATH_ID_TABLE_DNET)\n",
    "df_ganglioglioma = pd.read(PATH_ID_TABLE_GANGLIOGLIOMA)"
   ]
  },
  {
   "cell_type": "code",
   "execution_count": null,
   "metadata": {},
   "outputs": [],
   "source": []
  },
  {
   "cell_type": "code",
   "execution_count": null,
   "metadata": {},
   "outputs": [],
   "source": []
  },
  {
   "cell_type": "code",
   "execution_count": null,
   "metadata": {},
   "outputs": [],
   "source": []
  }
 ],
 "metadata": {
  "kernelspec": {
   "display_name": "DLM Py3",
   "language": "python",
   "name": "dlm_py3"
  },
  "language_info": {
   "codemirror_mode": {
    "name": "ipython",
    "version": 3
   },
   "file_extension": ".py",
   "mimetype": "text/x-python",
   "name": "python",
   "nbconvert_exporter": "python",
   "pygments_lexer": "ipython3",
   "version": "3.7.6"
  },
  "toc": {
   "base_numbering": 1,
   "nav_menu": {},
   "number_sections": true,
   "sideBar": true,
   "skip_h1_title": false,
   "title_cell": "Table of Contents",
   "title_sidebar": "Contents",
   "toc_cell": false,
   "toc_position": {},
   "toc_section_display": true,
   "toc_window_display": false
  }
 },
 "nbformat": 4,
 "nbformat_minor": 4
}
